{
 "cells": [
  {
   "cell_type": "markdown",
   "id": "ad87c837-d04a-4e52-b8ed-afa0e7350233",
   "metadata": {},
   "source": [
    "## Can we group students based on the number of upper division (updv.num) courses they’ve taken and their comfortability in math, stats, and programming? "
   ]
  },
  {
   "cell_type": "code",
   "execution_count": 1,
   "id": "9bcc5cc1-6e97-4ff1-b01f-7221ce0e11d5",
   "metadata": {},
   "outputs": [],
   "source": [
    "import pandas as pd\n",
    "import numpy as np\n",
    "import matplotlib.pyplot as plt\n",
    "import seaborn as sns\n",
    "from sklearn.preprocessing import StandardScaler\n",
    "from sklearn.cluster import KMeans\n",
    "from sklearn.decomposition import PCA\n",
    "from sklearn.metrics import silhouette_score\n",
    "import warnings\n",
    "warnings.filterwarnings('ignore')"
   ]
  },
  {
   "cell_type": "code",
   "execution_count": 3,
   "id": "2bc00567-ca03-46a4-96d8-3b3a81d8e2b7",
   "metadata": {},
   "outputs": [
    {
     "name": "stdout",
     "output_type": "stream",
     "text": [
      "Dataset shape: (51, 30)\n",
      "Number of students: 51\n"
     ]
    }
   ],
   "source": [
    "df = pd.read_csv('data/background-clean.csv')\n",
    "\n",
    "print(f\"Dataset shape: {df.shape}\")\n",
    "print(f\"Number of students: {df.shape[0]}\")"
   ]
  },
  {
   "cell_type": "code",
   "execution_count": 10,
   "id": "90b873d0-8a03-4976-98c2-982b1bf2da28",
   "metadata": {},
   "outputs": [],
   "source": [
    "# Convert updv.num from categorical to numerical (sort of roughly estimating the number of courses)\n",
    "# Convert categorical course numbers to numeric scale\n",
    "updv_mapping = {\n",
    "    '0-2': 1,    \n",
    "    '3-5': 4,      \n",
    "    '6-8': 7,    \n",
    "    '9+': 10     \n",
    "}\n",
    "\n",
    "df['updv_numeric'] = df['updv.num'].map(updv_mapping)\n",
    "\n",
    "feature_names = ['updv_numeric', 'prog.comf', 'math.comf', 'stat.comf']\n",
    "feature_labels = ['Upper Div Courses', 'Programming Comfort', 'Math Comfort', 'Statistics Comfort']\n",
    "\n",
    "# Create clustering dataset\n",
    "X = df[feature_names].copy()"
   ]
  },
  {
   "cell_type": "code",
   "execution_count": 12,
   "id": "c02b9558-27c7-4dd2-a4de-2c3f397e6714",
   "metadata": {},
   "outputs": [
    {
     "name": "stdout",
     "output_type": "stream",
     "text": [
      "\n",
      "Missing values per feature:\n",
      "updv_numeric    0\n",
      "prog.comf       0\n",
      "math.comf       0\n",
      "stat.comf       0\n",
      "dtype: int64\n"
     ]
    }
   ],
   "source": [
    "# missing values? No\n",
    "print(f\"\\nMissing values per feature:\")\n",
    "print(X.isnull().sum())"
   ]
  },
  {
   "cell_type": "markdown",
   "id": "abd1a2aa-15c2-48e8-a83d-29bd3632d21b",
   "metadata": {},
   "source": [
    "## Exploratory Data Analysis"
   ]
  },
  {
   "cell_type": "code",
   "execution_count": 8,
   "id": "0dc6d51f-a341-45bc-b9a5-bd56e6fd25e1",
   "metadata": {},
   "outputs": [
    {
     "name": "stdout",
     "output_type": "stream",
     "text": [
      "\n",
      "Summary Statistics:\n",
      "       updv_numeric  prog.comf  math.comf  stat.comf\n",
      "count     51.000000  51.000000  51.000000  51.000000\n",
      "mean       7.882353   3.862745   4.039216   4.039216\n",
      "std        2.635504   0.748855   0.773583   0.799019\n",
      "min        1.000000   2.000000   3.000000   2.000000\n",
      "25%        7.000000   3.000000   3.000000   3.500000\n",
      "50%       10.000000   4.000000   4.000000   4.000000\n",
      "75%       10.000000   4.000000   5.000000   5.000000\n",
      "max       10.000000   5.000000   5.000000   5.000000\n"
     ]
    }
   ],
   "source": [
    "print(\"\\nSummary Statistics:\")\n",
    "print(X.describe())"
   ]
  },
  {
   "cell_type": "markdown",
   "id": "7658b245-80c4-4254-9d09-da0474d14a21",
   "metadata": {},
   "source": [
    "We can see that the mean number of upper division courses taken is 7.88 which roughly falls under the 6-8 courses original category. Additionally, more students are comforable with math and stats rather than programming."
   ]
  },
  {
   "cell_type": "code",
   "execution_count": 9,
   "id": "18895bf0-b1bd-4625-b287-13f84e0934eb",
   "metadata": {},
   "outputs": [
    {
     "name": "stdout",
     "output_type": "stream",
     "text": [
      "\n",
      "Correlation Matrix:\n",
      "              updv_numeric  prog.comf  math.comf  stat.comf\n",
      "updv_numeric      1.000000   0.153794   0.276982   0.382135\n",
      "prog.comf         0.153794   1.000000   0.216623   0.243152\n",
      "math.comf         0.276982   0.216623   1.000000   0.579885\n",
      "stat.comf         0.382135   0.243152   0.579885   1.000000\n"
     ]
    }
   ],
   "source": [
    "# correlation analysis\n",
    "print(\"\\nCorrelation Matrix:\")\n",
    "correlation_matrix = cluster_data.corr()\n",
    "print(correlation_matrix)"
   ]
  }
 ],
 "metadata": {
  "kernelspec": {
   "display_name": "Python 3 (ipykernel)",
   "language": "python",
   "name": "python3"
  },
  "language_info": {
   "codemirror_mode": {
    "name": "ipython",
    "version": 3
   },
   "file_extension": ".py",
   "mimetype": "text/x-python",
   "name": "python",
   "nbconvert_exporter": "python",
   "pygments_lexer": "ipython3",
   "version": "3.11.1"
  }
 },
 "nbformat": 4,
 "nbformat_minor": 5
}
