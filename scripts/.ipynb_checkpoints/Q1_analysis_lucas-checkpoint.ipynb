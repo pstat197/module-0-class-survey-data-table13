{
 "cells": [
  {
   "cell_type": "markdown",
   "id": "ad87c837-d04a-4e52-b8ed-afa0e7350233",
   "metadata": {},
   "source": [
    "## Can we group students based on the number of upper division courses (updv.num) they’ve taken and their comfortability in math, stats, and programming? "
   ]
  },
  {
   "cell_type": "code",
   "execution_count": 2,
   "id": "9bcc5cc1-6e97-4ff1-b01f-7221ce0e11d5",
   "metadata": {},
   "outputs": [],
   "source": [
    "import pandas as pd\n",
    "import numpy as np\n",
    "import matplotlib.pyplot as plt\n",
    "import seaborn as sns\n",
    "from sklearn.preprocessing import StandardScaler\n",
    "from sklearn.cluster import KMeans\n",
    "from sklearn.metrics import silhouette_score\n",
    "from scipy.spatial.distance import cdist\n",
    "from sklearn.metrics import adjusted_rand_score\n",
    "from pathlib import Path      # make sure to pip install this, helps with organizing our data directories"
   ]
  },
  {
   "cell_type": "code",
   "execution_count": 3,
   "id": "2bc00567-ca03-46a4-96d8-3b3a81d8e2b7",
   "metadata": {},
   "outputs": [
    {
     "name": "stdout",
     "output_type": "stream",
     "text": [
      "Dataset shape: (51, 30)\n",
      "Number of students: 51\n"
     ]
    }
   ],
   "source": [
    "current_path = Path().resolve() # the working directory you're in on YOUR computer\n",
    "ROOT = current_path.parents[0]  # assuming you're in the 'scripts' directory, this line grabs the path to the root directory, so 'module-0-class-survey-data-table13'\n",
    "df = pd.read_csv(f'{ROOT}/data/background-clean.csv')\n",
    "\n",
    "print(f\"Dataset shape: {df.shape}\")\n",
    "print(f\"Number of students: {df.shape[0]}\")"
   ]
  },
  {
   "cell_type": "code",
   "execution_count": 4,
   "id": "90b873d0-8a03-4976-98c2-982b1bf2da28",
   "metadata": {},
   "outputs": [],
   "source": [
    "# Convert updv.num from categorical to numerical (sort of roughly estimating the number of courses)\n",
    "# Convert categorical course numbers to numeric scale\n",
    "updv_mapping = {\n",
    "    '0-2': 1,    \n",
    "    '3-5': 4,      \n",
    "    '6-8': 7,    \n",
    "    '9+': 10     \n",
    "}\n",
    "\n",
    "df['updv_numeric'] = df['updv.num'].map(updv_mapping)\n",
    "\n",
    "feature_names = ['updv_numeric', 'prog.comf', 'math.comf', 'stat.comf']\n",
    "feature_labels = ['Upper Div Courses', 'Programming Comfort', 'Math Comfort', 'Statistics Comfort']\n",
    "\n",
    "# Create clustering dataset\n",
    "X = df[feature_names].copy()"
   ]
  },
  {
   "cell_type": "code",
   "execution_count": 4,
   "id": "c02b9558-27c7-4dd2-a4de-2c3f397e6714",
   "metadata": {},
   "outputs": [
    {
     "name": "stdout",
     "output_type": "stream",
     "text": [
      "\n",
      "Missing values per feature:\n",
      "updv_numeric    0\n",
      "prog.comf       0\n",
      "math.comf       0\n",
      "stat.comf       0\n",
      "dtype: int64\n"
     ]
    }
   ],
   "source": [
    "# missing values? No\n",
    "print(f\"\\nMissing values per feature:\")\n",
    "print(X.isnull().sum())"
   ]
  },
  {
   "cell_type": "markdown",
   "id": "abd1a2aa-15c2-48e8-a83d-29bd3632d21b",
   "metadata": {},
   "source": [
    "## Exploratory Data Analysis"
   ]
  },
  {
   "cell_type": "code",
   "execution_count": 5,
   "id": "0dc6d51f-a341-45bc-b9a5-bd56e6fd25e1",
   "metadata": {},
   "outputs": [
    {
     "name": "stdout",
     "output_type": "stream",
     "text": [
      "\n",
      "Summary Statistics:\n",
      "       updv_numeric  prog.comf  math.comf  stat.comf\n",
      "count     51.000000  51.000000  51.000000  51.000000\n",
      "mean       7.882353   3.862745   4.039216   4.039216\n",
      "std        2.635504   0.748855   0.773583   0.799019\n",
      "min        1.000000   2.000000   3.000000   2.000000\n",
      "25%        7.000000   3.000000   3.000000   3.500000\n",
      "50%       10.000000   4.000000   4.000000   4.000000\n",
      "75%       10.000000   4.000000   5.000000   5.000000\n",
      "max       10.000000   5.000000   5.000000   5.000000\n"
     ]
    }
   ],
   "source": [
    "print(\"\\nSummary Statistics:\")\n",
    "print(X.describe())"
   ]
  },
  {
   "cell_type": "markdown",
   "id": "7658b245-80c4-4254-9d09-da0474d14a21",
   "metadata": {},
   "source": [
    "We can see that the mean number of upper division courses taken is 7.88 which roughly falls under the 6-8 courses original category. Additionally, more students are comforable with math and stats rather than programming."
   ]
  },
  {
   "cell_type": "code",
   "execution_count": 6,
   "id": "18895bf0-b1bd-4625-b287-13f84e0934eb",
   "metadata": {},
   "outputs": [
    {
     "name": "stdout",
     "output_type": "stream",
     "text": [
      "\n",
      "Course Distribution:\n",
      "  0-2: 2 students (3.9%)\n",
      "  3-5: 8 students (15.7%)\n",
      "  6-8: 14 students (27.5%)\n",
      "  9+: 27 students (52.9%)\n"
     ]
    }
   ],
   "source": [
    "# Show distribution of course categories\n",
    "print(\"\\nCourse Distribution:\")\n",
    "course_dist = df['updv.num'].value_counts().sort_index()\n",
    "for cat, count in course_dist.items():\n",
    "    print(f\"  {cat}: {count} students ({count/len(df)*100:.1f}%)\")\n"
   ]
  },
  {
   "cell_type": "code",
   "execution_count": 5,
   "id": "0e276b00-b596-4366-8b8c-d552467cb000",
   "metadata": {},
   "outputs": [
    {
     "name": "stdout",
     "output_type": "stream",
     "text": [
      "\n",
      "Feature Correlations:\n",
      "Upper Div Courses ↔ Programming Comfort: 0.154\n",
      "Upper Div Courses ↔ Math Comfort: 0.277\n",
      "Upper Div Courses ↔ Statistics Comfort: 0.382\n",
      "Programming Comfort ↔ Math Comfort: 0.217\n",
      "Programming Comfort ↔ Statistics Comfort: 0.243\n",
      "Math Comfort ↔ Statistics Comfort: 0.580\n"
     ]
    }
   ],
   "source": [
    "# Calculate correlations\n",
    "print(\"\\nFeature Correlations:\")\n",
    "corr_matrix = X.corr()\n",
    "for i in range(len(feature_names)):\n",
    "    for j in range(i+1, len(feature_names)):\n",
    "        corr_val = corr_matrix.iloc[i, j]\n",
    "        feat1 = feature_labels[i]\n",
    "        feat2 = feature_labels[j]\n",
    "        print(f\"{feat1} \\u2194 {feat2}: {corr_val:.3f}\")\n"
   ]
  },
  {
   "cell_type": "markdown",
   "id": "b7b3b721-c646-4a8e-a386-4320c59eca1b",
   "metadata": {},
   "source": [
    "Correlations range from -1 to +1, where correlations closer to -1 represent a stronger negative relationship and vice versa. "
   ]
  },
  {
   "cell_type": "markdown",
   "id": "05a3ba20-53ba-43c4-a761-949a5e7edf9c",
   "metadata": {},
   "source": [
    "Based on the correlations, we see weak relationships between the number of upper division courses taken and comfortability in the 3 subjects, with the highest correlation being 0.382, still relatively low, but indicating the most relationship between more upper division courses and comfortability with statistics. The strongest correlation is between math comfort and statistics comfort."
   ]
  },
  {
   "cell_type": "markdown",
   "id": "d93fdfea-87f0-4adc-b842-33053841f8da",
   "metadata": {},
   "source": [
    "## K-means clustering"
   ]
  },
  {
   "cell_type": "code",
   "execution_count": 9,
   "id": "5349e68f-96cf-41a1-b071-cf3a92d92802",
   "metadata": {},
   "outputs": [
    {
     "name": "stdout",
     "output_type": "stream",
     "text": [
      "Before scaling, course numbers range: 1 to 10 and comfort levels range: 2 to 5.\n",
      "After scaling (mean=0, std=1): all features now range approx: -2.6 to 1.5.\n",
      "So, all features now have equal weight in clustering since their continuous values don't vary higher than others'.\n"
     ]
    }
   ],
   "source": [
    "# Standardize features\n",
    "scaler = StandardScaler()\n",
    "X_scaled = scaler.fit_transform(X)\n",
    "X_scaled_df = pd.DataFrame(X_scaled, columns=feature_names, index=X.index)\n",
    "\n",
    "print(f\"Before scaling, course numbers range: {X['updv_numeric'].min():.0f} to {X['updv_numeric'].max():.0f} and comfort levels range: {X[['prog.comf', 'math.comf', 'stat.comf']].min().min():.0f} to {X[['prog.comf', 'math.comf', 'stat.comf']].max().max():.0f}.\")\n",
    "print(f\"After scaling (mean=0, std=1): all features now range approx: {X_scaled.min():.1f} to {X_scaled.max():.1f}.\")\n",
    "print(\"So, all features now have equal weight in clustering since their continuous values don't vary higher than others'.\")"
   ]
  },
  {
   "cell_type": "code",
   "execution_count": 18,
   "id": "124746d6-a4a7-4c9d-b53b-8a6eb1094705",
   "metadata": {},
   "outputs": [
    {
     "name": "stdout",
     "output_type": "stream",
     "text": [
      "  k=2: Inertia=134.2\n",
      "  k=3: Inertia=107.4\n",
      "  k=4: Inertia=86.0\n",
      "  k=5: Inertia=72.4\n",
      "  k=6: Inertia=63.0\n",
      "  k=7: Inertia=56.7\n",
      "  k=8: Inertia=47.0\n",
      "  k=9: Inertia=43.0\n",
      "  k=10: Inertia=38.3\n",
      "\n",
      "\n",
      "  k=2: ~26 students per cluster\n",
      "  k=3: ~17 students per cluster\n",
      "  k=4: ~13 students per cluster\n",
      "  k=5: ~10 students per cluster\n",
      "  k=6: ~8 students per cluster\n",
      "  k=7: ~7 students per cluster\n",
      "  k=8: ~6 students per cluster\n",
      "  k=9: ~6 students per cluster\n",
      "  k=10: ~5 students per cluster\n"
     ]
    },
    {
     "data": {
      "image/png": "[encoded data removed]",
      "text/plain": [
       "<Figure size 600x400 with 1 Axes>"
      ]
     },
     "metadata": {},
     "output_type": "display_data"
    }
   ],
   "source": [
    "# Elbow method to choose k for k-means\n",
    "# range of k values to test\n",
    "K = range(2, 11)\n",
    "\n",
    "inertias = []\n",
    "\n",
    "for k in K:\n",
    "    # Fit k-means\n",
    "    kmeans = KMeans(n_clusters=k, random_state=42, n_init=10)\n",
    "    kmeans.fit(X_scaled)\n",
    "    \n",
    "    # Calculate inertia (within-cluster sum of squares)\n",
    "    inertias.append(kmeans.inertia_)\n",
    "    \n",
    "    print(f\"  k={k}: Inertia={kmeans.inertia_:.1f}\")\n",
    "print(f\"\\n\")\n",
    "\n",
    "# Elbow method plotted\n",
    " \n",
    "# Elbow Plot (Inertia) - use to find the elbow (point where after, intertia starts flattening out)\n",
    "fig, ax1 = plt.subplots(figsize=(6, 4))\n",
    "ax1.plot(K, inertias, 'bo-')\n",
    "ax1.set_xlabel('Number of Clusters (k)')\n",
    "ax1.set_ylabel('Inertia (Within-Cluster SSE)')\n",
    "ax1.set_title('Elbow Method - Inertia')\n",
    "ax1.grid(True, alpha=0.3)\n",
    "\n",
    "for k in [2, 3, 4, 5, 6, 7, 8, 9, 10]:\n",
    "    avg_per_cluster = 51 / k # avg num students in each cluster for the different k values\n",
    "    print(f\"  k={k}: ~{avg_per_cluster:.0f} students per cluster\")"
   ]
  },
  {
   "cell_type": "markdown",
   "id": "c4239923-89c4-4a21-bbd9-9bc828b2c3eb",
   "metadata": {},
   "source": [
    "Based on the albow method, looking at the SSE's at each k value, intertia starts to decrease slower after $k = 5$. The plot kind of shows this as well, showing that most of the SSE decrease happens up to the 5th cluster ($k=5$).\n",
    "\n",
    "So, we'll go ahead with $k=5$ clusters."
   ]
  },
  {
   "cell_type": "code",
   "execution_count": 19,
   "id": "2166a003-c613-4f84-a460-f6320e4de50b",
   "metadata": {},
   "outputs": [
    {
     "name": "stdout",
     "output_type": "stream",
     "text": [
      "Clustering Results:\n",
      "Number of clusters: 5\n",
      "Inertia (within-cluster SSE): 72.36\n",
      "Silhouette Score: 0.293\n",
      "\n",
      "Cluster Sizes:\n",
      "Cluster 0: 11 students\n",
      "Cluster 1: 9 students\n",
      "Cluster 2: 13 students\n",
      "Cluster 3: 8 students\n",
      "Cluster 4: 10 students\n"
     ]
    }
   ],
   "source": [
    "# set seed for reproducibility\n",
    "np.random.seed(42)\n",
    "\n",
    "k = 5\n",
    "kmeans = KMeans(n_clusters=k, random_state=42, n_init=20, max_iter=300)\n",
    "cluster_labels = kmeans.fit_predict(X_scaled)\n",
    "\n",
    "# add cluster labels to dataframe\n",
    "df['cluster'] = cluster_labels\n",
    "X['cluster'] = cluster_labels\n",
    "\n",
    "# calculate clustering quality metrics\n",
    "inertia = kmeans.inertia_\n",
    "silhouette = silhouette_score(X_scaled, cluster_labels)\n",
    "\n",
    "print(f\"Clustering Results:\")\n",
    "print(f\"Number of clusters: {k}\")\n",
    "print(f\"Inertia (within-cluster SSE): {inertia:.2f}\")\n",
    "print(f\"Silhouette Score: {silhouette:.3f}\") # evaluates how well separated clusters are from each other (-1/1 indicate very good separation)\n",
    "\n",
    "# show cluster sizes\n",
    "print(f\"\\nCluster Sizes:\")\n",
    "cluster_sizes = df['cluster'].value_counts().sort_index()\n",
    "for cluster_id, size in cluster_sizes.items():\n",
    "    print(f\"Cluster {cluster_id}: {size} students\")"
   ]
  },
  {
   "cell_type": "code",
   "execution_count": 26,
   "id": "da15b61b-7731-47a3-ada9-4c673c1e76b8",
   "metadata": {},
   "outputs": [
    {
     "name": "stdout",
     "output_type": "stream",
     "text": [
      "------------------------------------------------------------\n",
      "CLUSTER 0 - 11 students\n",
      "\n",
      "Cluster Center:\n",
      "Upper Div Courses: 4.8\n",
      "Programming Comfort: 3.55\n",
      "Math Comfort: 3.27\n",
      "Statistics Comfort: 3.00\n",
      "\n",
      "Most Common Course Category: 6-8 (5/11 students)\n",
      "\n",
      "Course Distribution in Cluster:\n",
      "0-2: 2 students (18%)\n",
      "3-5: 4 students (36%)\n",
      "6-8: 5 students (45%)\n",
      "\n",
      "Cluster label: Medium Course Load, Moderate Comfortability \n",
      "\n",
      "------------------------------------------------------------\n",
      "CLUSTER 1 - 9 students\n",
      "\n",
      "Cluster Center:\n",
      "Upper Div Courses: 9.7\n",
      "Programming Comfort: 2.89\n",
      "Math Comfort: 4.22\n",
      "Statistics Comfort: 4.11\n",
      "\n",
      "Most Common Course Category: 9+ (8/9 students)\n",
      "\n",
      "Course Distribution in Cluster:\n",
      "6-8: 1 students (11%)\n",
      "9+: 8 students (89%)\n",
      "\n",
      "Cluster label: High Course Load, Moderate-High Comfortability \n",
      "\n",
      "------------------------------------------------------------\n",
      "CLUSTER 2 - 13 students\n",
      "\n",
      "Cluster Center:\n",
      "Upper Div Courses: 9.1\n",
      "Programming Comfort: 4.31\n",
      "Math Comfort: 3.62\n",
      "Statistics Comfort: 3.92\n",
      "\n",
      "Most Common Course Category: 9+ (9/13 students)\n",
      "\n",
      "Course Distribution in Cluster:\n",
      "6-8: 4 students (31%)\n",
      "9+: 9 students (69%)\n",
      "\n",
      "Cluster label: High Course Load, Moderate-High Comfortability \n",
      "\n",
      "------------------------------------------------------------\n",
      "CLUSTER 3 - 8 students\n",
      "\n",
      "Cluster Center:\n",
      "Upper Div Courses: 5.5\n",
      "Programming Comfort: 3.75\n",
      "Math Comfort: 4.50\n",
      "Statistics Comfort: 4.62\n",
      "\n",
      "Most Common Course Category: 3-5 (4/8 students)\n",
      "\n",
      "Course Distribution in Cluster:\n",
      "3-5: 4 students (50%)\n",
      "6-8: 4 students (50%)\n",
      "\n",
      "Cluster label: Medium Course Load, High Comfortability \n",
      "\n",
      "------------------------------------------------------------\n",
      "CLUSTER 4 - 10 students\n",
      "\n",
      "Cluster Center:\n",
      "Upper Div Courses: 10.0\n",
      "Programming Comfort: 4.60\n",
      "Math Comfort: 4.90\n",
      "Statistics Comfort: 4.80\n",
      "\n",
      "Most Common Course Category: 9+ (10/10 students)\n",
      "\n",
      "Course Distribution in Cluster:\n",
      "9+: 10 students (100%)\n",
      "\n",
      "Cluster label: High Course Load, High Comfortability \n",
      "\n"
     ]
    }
   ],
   "source": [
    "# calculate cluster centers in original scale\n",
    "cluster_centers = pd.DataFrame(\n",
    "    scaler.inverse_transform(kmeans.cluster_centers_),\n",
    "    columns=feature_names\n",
    ")\n",
    "\n",
    "# alculate statistics for each cluster\n",
    "for cluster_id in range(k):\n",
    "    cluster_data = X[X['cluster'] == cluster_id]\n",
    "    cluster_df = df[df['cluster'] == cluster_id]\n",
    "\n",
    "    print('-' * 60)\n",
    "    print(f\"CLUSTER {cluster_id} - {len(cluster_data)} students\")\n",
    "    \n",
    "    # center values (from k-means)\n",
    "    print(\"\\nCluster Center:\")\n",
    "    print(f\"Upper Div Courses: {cluster_centers.loc[cluster_id, 'updv_numeric']:.1f}\")\n",
    "    print(f\"Programming Comfort: {cluster_centers.loc[cluster_id, 'prog.comf']:.2f}\")\n",
    "    print(f\"Math Comfort: {cluster_centers.loc[cluster_id, 'math.comf']:.2f}\")\n",
    "    print(f\"Statistics Comfort: {cluster_centers.loc[cluster_id, 'stat.comf']:.2f}\")\n",
    "    \n",
    "    # most common course category\n",
    "    mode_category = cluster_df['updv.num'].mode()[0]\n",
    "    mode_count = (cluster_df['updv.num'] == mode_category).sum()\n",
    "    print(f\"\\nMost Common Course Category: {mode_category} ({mode_count}/{len(cluster_df)} students)\")\n",
    "    \n",
    "    # distribution of course categories in this cluster\n",
    "    print(\"\\nCourse Distribution in Cluster:\")\n",
    "    for cat in ['0-2', '3-5', '6-8', '9+']:\n",
    "        count = (cluster_df['updv.num'] == cat).sum()\n",
    "        if count > 0:\n",
    "            print(f\"{cat}: {count} students ({count/len(cluster_df)*100:.0f}%)\")\n",
    "    \n",
    "    # cluster interpretation\n",
    "    avg_courses = cluster_data['updv_numeric'].mean()\n",
    "    avg_comfort = cluster_data[['prog.comf', 'math.comf', 'stat.comf']].mean().mean()\n",
    "    \n",
    "    # determine labels\n",
    "    if avg_courses >= 7:\n",
    "        course_level = \"High Course Load\"\n",
    "    elif avg_courses >= 4:\n",
    "        course_level = \"Medium Course Load\"\n",
    "    else:\n",
    "        course_level = \"Low Course Load\"\n",
    "    \n",
    "    if avg_comfort >= 4:\n",
    "        comfort_level = \"High Comfortability\"\n",
    "    elif avg_comfort >= 3.5:\n",
    "        comfort_level = \"Moderate-High Comfortability\"\n",
    "    elif avg_comfort >= 3:\n",
    "        comfort_level = \"Moderate Comfortability\"\n",
    "    else:\n",
    "        comfort_level = \"Low Comfortability\"\n",
    "    \n",
    "    print(f\"\\nCluster label: {course_level}, {comfort_level} \\n\")"
   ]
  },
  {
   "cell_type": "code",
   "execution_count": 29,
   "id": "9a77b43b-6b8d-43c9-bac7-fca8d5abb2fb",
   "metadata": {},
   "outputs": [
    {
     "name": "stdout",
     "output_type": "stream",
     "text": [
      "\n",
      "Hypothesis Test: 'Students with 9+ courses have higher comfort levels'\n",
      "\n",
      "Students with 9+ courses: 27\n",
      "Average Programming Comfort: 4.00\n",
      "Average Math Comfort: 4.26\n",
      "Average Statistics Comfort: 4.26\n",
      "\n",
      "Students with <9 courses: 24\n",
      "Average Programming Comfort: 3.71\n",
      "Average Math Comfort: 3.79\n",
      "Average Statistics Comfort: 3.79\n",
      "\n",
      "Cluster distribution of 9+ course students:\n",
      "Cluster 0: 0 students (0%)\n",
      "Cluster 1: 8 students (30%)\n",
      "Cluster 2: 9 students (33%)\n",
      "Cluster 3: 0 students (0%)\n",
      "Cluster 4: 10 students (37%)\n"
     ]
    }
   ],
   "source": [
    "# test the hypothesis: Do higher courses correlate with higher comfort in clusters?\n",
    "print(\"\\nHypothesis Test: 'Students with 9+ courses have higher comfort levels'\")\n",
    "\n",
    "# analyze 9+ course students\n",
    "high_course_students = df[df['updv.num'] == '9+']\n",
    "other_students = df[df['updv.num'] != '9+']\n",
    "\n",
    "print(f\"\\nStudents with 9+ courses: {len(high_course_students)}\")\n",
    "print(f\"Average Programming Comfort: {high_course_students['prog.comf'].mean():.2f}\")\n",
    "print(f\"Average Math Comfort: {high_course_students['math.comf'].mean():.2f}\")\n",
    "print(f\"Average Statistics Comfort: {high_course_students['stat.comf'].mean():.2f}\")\n",
    "\n",
    "print(f\"\\nStudents with <9 courses: {len(other_students)}\")\n",
    "print(f\"Average Programming Comfort: {other_students['prog.comf'].mean():.2f}\")\n",
    "print(f\"Average Math Comfort: {other_students['math.comf'].mean():.2f}\")\n",
    "print(f\"Average Statistics Comfort: {other_students['stat.comf'].mean():.2f}\")\n",
    "\n",
    "# check cluster distribution of 9+ students\n",
    "print(f\"\\nCluster distribution of 9+ course students:\")\n",
    "for cluster_id in range(k):\n",
    "    count = (high_course_students['cluster'] == cluster_id).sum()\n",
    "    pct = count / len(high_course_students) * 100\n",
    "    print(f\"Cluster {cluster_id}: {count} students ({pct:.0f}%)\")"
   ]
  },
  {
   "cell_type": "markdown",
   "id": "d2874e35-5a8c-4960-9a02-ddaf4f2879b6",
   "metadata": {},
   "source": [
    "## Overall conclusions:\n",
    "\n",
    "Clusters 1, 2, and 4 are based on students who have taken 6+ upper division courses. Of those 3 clusters, 2 of them associate this number of courses with moderate to high comfortability (between 3.5 and 4 on the scale of 5) in math, stats, and programming, and the last one associates the high number of courses with high comfortability in these subjects.\n",
    "\n",
    "The other two clusters (0 and 3) are associated with a moderate amount of upper division courses taken (3-5 courses) and are associated with moderate and high comfortabilities in math, stats, and programming (between 3 and 3.5, and above 4 respectively)."
   ]
  },
  {
   "cell_type": "markdown",
   "id": "c4f260a3-0a04-4781-83ca-2bd8507dd352",
   "metadata": {},
   "source": [
    "All in all, we can group students on the higher end of the number of upper division courses they've taken into a category of medium to high (3+ on a scale of 5) comfortability in math, statistics, and programming. But, it's good to keep in mind that the number of upper division courses and math/stats/programming comfort had a relatively low correlation score of 0.38 at the highest."
   ]
  },
  {
   "cell_type": "code",
   "execution_count": null,
   "id": "4f1b6598-637e-4ae2-ae7c-1ca7a60ce425",
   "metadata": {},
   "outputs": [],
   "source": []
  }
 ],
 "metadata": {
  "kernelspec": {
   "display_name": "Python 3 (ipykernel)",
   "language": "python",
   "name": "python3"
  },
  "language_info": {
   "codemirror_mode": {
    "name": "ipython",
    "version": 3
   },
   "file_extension": ".py",
   "mimetype": "text/x-python",
   "name": "python",
   "nbconvert_exporter": "python",
   "pygments_lexer": "ipython3",
   "version": "3.11.1"
  }
 },
 "nbformat": 4,
 "nbformat_minor": 5
}
