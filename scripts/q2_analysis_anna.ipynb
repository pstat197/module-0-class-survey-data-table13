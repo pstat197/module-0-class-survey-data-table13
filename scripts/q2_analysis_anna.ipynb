{
 "cells": [
  {
   "cell_type": "markdown",
   "id": "9efdaa72",
   "metadata": {},
   "source": [
    "### Does the diversity of domain interests (e.g., how many domain columns = 1 for each student) relate to comfort or proficiency? Are “broad interest” students generally more confident?\n"
   ]
  }
 ],
 "metadata": {
  "language_info": {
   "name": "python"
  }
 },
 "nbformat": 4,
 "nbformat_minor": 5
}
