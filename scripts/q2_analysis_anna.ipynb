{
 "cells": [
  {
   "cell_type": "markdown",
   "id": "9efdaa72",
   "metadata": {},
   "source": [
    "### Does the diversity of domain interests (e.g., how many domain columns = 1 for each student) relate to comfort or proficiency? Are “broad interest” students generally more confident?\n"
   ]
  },
  {
   "cell_type": "code",
   "execution_count": 12,
   "id": "5b036265",
   "metadata": {},
   "outputs": [
    {
     "name": "stdout",
     "output_type": "stream",
     "text": [
      "   response_id prog.prof  prog.comf math.prof  math.comf stat.prof  stat.comf  \\\n",
      "0            1       adv          5       int          4       adv          5   \n",
      "1            2       adv          5       int          4       adv          4   \n",
      "2            3       adv          4       int          4       adv          4   \n",
      "3            4       adv          4       int          3       adv          4   \n",
      "4            6       int          3       int          3       int          3   \n",
      "\n",
      "  updv.num dom_tf                                rsrch_or_ind  ...  \\\n",
      "0       9+    Yes                               No preference  ...   \n",
      "1      6-8     No  I'm more interested in an industry project  ...   \n",
      "2       9+     No  I'm more interested in an industry project  ...   \n",
      "3       9+     No  I'm more interested in an industry project  ...   \n",
      "4      6-8    Yes  I'm more interested in an industry project  ...   \n",
      "\n",
      "   Entertainment  Environmental science  Music & Audio  Neuroscience  \\\n",
      "0          False                   True          False         False   \n",
      "1          False                  False          False          True   \n",
      "2          False                  False          False         False   \n",
      "3          False                  False          False         False   \n",
      "4          False                  False          False          True   \n",
      "\n",
      "   Psychology  Public health  Social or political science  \\\n",
      "0       False           True                        False   \n",
      "1       False           True                        False   \n",
      "2       False          False                         True   \n",
      "3       False          False                        False   \n",
      "4       False          False                         True   \n",
      "\n",
      "   Software development  Technology  media/musical technology  \n",
      "0                 False       False                     False  \n",
      "1                  True        True                     False  \n",
      "2                  True        True                     False  \n",
      "3                  True        True                     False  \n",
      "4                  True        True                     False  \n",
      "\n",
      "[5 rows x 47 columns]\n"
     ]
    }
   ],
   "source": [
    "import pandas as pd\n",
    "\n",
    "#Combined data from data-cleaning.py\n",
    "df = pd.read_csv('data/combined.csv')\n",
    "print(df.head())    "
   ]
  }
 ],
 "metadata": {
  "kernelspec": {
   "display_name": ".conda",
   "language": "python",
   "name": "python3"
  },
  "language_info": {
   "codemirror_mode": {
    "name": "ipython",
    "version": 3
   },
   "file_extension": ".py",
   "mimetype": "text/x-python",
   "name": "python",
   "nbconvert_exporter": "python",
   "pygments_lexer": "ipython3",
   "version": "3.11.13"
  }
 },
 "nbformat": 4,
 "nbformat_minor": 5
}
