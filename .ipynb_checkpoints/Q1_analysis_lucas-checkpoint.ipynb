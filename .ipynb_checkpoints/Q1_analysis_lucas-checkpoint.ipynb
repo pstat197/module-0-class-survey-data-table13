{
 "cells": [
  {
   "cell_type": "markdown",
   "id": "ad87c837-d04a-4e52-b8ed-afa0e7350233",
   "metadata": {},
   "source": [
    "## Can we group students based on the number of upper division (updv.num) courses they’ve taken and their comfortability in math, stats, and programming? "
   ]
  },
  {
   "cell_type": "code",
   "execution_count": 1,
   "id": "9bcc5cc1-6e97-4ff1-b01f-7221ce0e11d5",
   "metadata": {},
   "outputs": [],
   "source": [
    "import pandas as pd\n",
    "import numpy as np\n",
    "import matplotlib.pyplot as plt\n",
    "import seaborn as sns\n",
    "from sklearn.preprocessing import StandardScaler\n",
    "from sklearn.cluster import KMeans\n",
    "from sklearn.decomposition import PCA\n",
    "from sklearn.metrics import silhouette_score\n",
    "import warnings\n",
    "warnings.filterwarnings('ignore')"
   ]
  },
  {
   "cell_type": "code",
   "execution_count": 3,
   "id": "2bc00567-ca03-46a4-96d8-3b3a81d8e2b7",
   "metadata": {},
   "outputs": [
    {
     "name": "stdout",
     "output_type": "stream",
     "text": [
      "Dataset shape: (51, 30)\n",
      "Number of students: 51\n"
     ]
    }
   ],
   "source": [
    "df = pd.read_csv('data/background-clean.csv')\n",
    "\n",
    "print(f\"Dataset shape: {df.shape}\")\n",
    "print(f\"Number of students: {df.shape[0]}\")"
   ]
  },
  {
   "cell_type": "code",
   "execution_count": null,
   "id": "90b873d0-8a03-4976-98c2-982b1bf2da28",
   "metadata": {},
   "outputs": [],
   "source": []
  }
 ],
 "metadata": {
  "kernelspec": {
   "display_name": "Python 3 (ipykernel)",
   "language": "python",
   "name": "python3"
  },
  "language_info": {
   "codemirror_mode": {
    "name": "ipython",
    "version": 3
   },
   "file_extension": ".py",
   "mimetype": "text/x-python",
   "name": "python",
   "nbconvert_exporter": "python",
   "pygments_lexer": "ipython3",
   "version": "3.11.1"
  }
 },
 "nbformat": 4,
 "nbformat_minor": 5
}
