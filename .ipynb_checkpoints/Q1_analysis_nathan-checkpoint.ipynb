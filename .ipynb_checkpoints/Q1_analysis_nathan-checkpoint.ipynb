{
 "cells": [
  {
   "cell_type": "markdown",
   "id": "a9f3a2d9",
   "metadata": {},
   "source": [
    "\n",
    "#Can we group students based on the number of upper division (updv.num) courses they’ve taken and their comfortability in math, stats, and programming? \n"
   ]
  },
  {
   "cell_type": "code",
   "execution_count": null,
   "id": "a3c14771",
   "metadata": {},
   "outputs": [],
   "source": [
    "import pandas as pd\n",
    "from sklearn.preprocessing import StandardScaler\n",
    "import matplotlib.pyplot as plt\n",
    "from sklearn.cluster import KMeans\n",
    "\n",
    "# Load data\n",
    "background_clean = pd.read_csv(\"background-clean.csv\")\n",
    "\n",
    "# Scale the features\n",
    "scaler = StandardScaler()\n",
    "scaled_data = scaler.fit_transform(background_clean)\n",
    "\n",
    "inertia = []\n",
    "k_values = range(1, 10)\n",
    "\n",
    "for k in k_values:\n",
    "    km = KMeans(n_clusters=k, random_state=42)\n",
    "    km.fit(scaled_data)\n",
    "    inertia.append(km.inertia_)\n",
    "\n",
    "plt.plot(k_values, inertia, marker='o')\n",
    "plt.xlabel(\"Number of clusters (k)\")\n",
    "plt.ylabel(\"Inertia (Within-cluster Sum of Squares)\")\n",
    "plt.title(\"Elbow Method for Optimal k\")\n",
    "plt.show()"
   ]
  },
  {
   "cell_type": "code",
   "execution_count": null,
   "id": "90f2b5b8",
   "metadata": {},
   "outputs": [],
   "source": [
    "import pandas as pd\n",
    "from sklearn.preprocessing import StandardScaler\n",
    "import matplotlib.pyplot as plt\n",
    "from sklearn.cluster import KMeans\n",
    "\n",
    "# Load data\n",
    "background_clean = pd.read_csv(\"background-clean.csv\")\n",
    "\n",
    "# Scale the features\n",
    "scaler = StandardScaler()\n",
    "scaled_data = scaler.fit_transform(background_clean)\n",
    "\n",
    "inertia = []\n",
    "k_values = range(1, 10)\n",
    "\n",
    "for k in k_values:\n",
    "    km = KMeans(n_clusters=k, random_state=42)\n",
    "    km.fit(scaled_data)\n",
    "    inertia.append(km.inertia_)\n",
    "\n",
    "plt.plot(k_values, inertia, marker='o')\n",
    "plt.xlabel(\"Number of clusters (k)\")\n",
    "plt.ylabel(\"Inertia (Within-cluster Sum of Squares)\")\n",
    "plt.title(\"Elbow Method for Optimal k\")\n",
    "plt.show()"
   ]
  },
  {
   "cell_type": "code",
   "execution_count": null,
   "id": "81289f6f",
   "metadata": {},
   "outputs": [],
   "source": [
    "import pandas as pd\n",
    "from sklearn.preprocessing import StandardScaler\n",
    "\n",
    "data = pd.DataFrame({\n",
    "    \"updv.num\": [1, 4, 6, 2],\n",
    "    \"math.comf\": [3, 5, 2, 4],\n",
    "    \"stat.comf\": [4, 2, 5, 3],\n",
    "    \"prog.comf\": [2, 4, 1, 5]\n",
    "})\n",
    "\n",
    "scaler = StandardScaler()\n",
    "scaled_data = scaler.fit_transform(data)\n",
    "\n",
    "print(\"Original Data:\")\n",
    "print(data)\n",
    "print(\"\\nScaled Data:\")\n",
    "print(scaled_data)"
   ]
  },
  {
   "cell_type": "code",
   "execution_count": null,
   "id": "8dbc5cea",
   "metadata": {},
   "outputs": [],
   "source": []
  }
 ],
 "metadata": {
  "language_info": {
   "name": "python"
  }
 },
 "nbformat": 4,
 "nbformat_minor": 5
}
